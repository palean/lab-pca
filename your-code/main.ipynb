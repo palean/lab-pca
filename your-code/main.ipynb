{
 "cells": [
  {
   "cell_type": "markdown",
   "metadata": {},
   "source": [
    "# Before your start:\n",
    "- Read the README.md file\n",
    "- Comment as much as you can and use the resources (README.md file)\n",
    "- Happy learning!"
   ]
  },
  {
   "cell_type": "code",
   "execution_count": 1,
   "metadata": {},
   "outputs": [],
   "source": [
    "# Run this code:\n",
    "\n",
    "%matplotlib inline\n",
    "\n",
    "import matplotlib.pyplot as plt"
   ]
  },
  {
   "cell_type": "code",
   "execution_count": 2,
   "metadata": {},
   "outputs": [],
   "source": [
    "# Import numpy and pandas:\n",
    "import pandas as pd\n",
    "from statsmodels.multivariate.pca import PCA\n",
    "import numpy as np"
   ]
  },
  {
   "cell_type": "markdown",
   "metadata": {},
   "source": [
    "# Challenge 1 - Reading and Standardizing the Data\n",
    "\n",
    "In this challenge we will work with image data and reduce the dimensions of the data to create a 2 dimensional plot. While we have not worked much with image data before, it can be represented as a numpy array where each pixel is assigned a numeric value. In this lesson, we will look at a dataset of cats and a dataset of dogs and see whether reducing them to two dimensions allows us to see if the data is separable. We will start by loading and processing the data. Run the cell below to load the two csv files and convert them into numpy arrays."
   ]
  },
  {
   "cell_type": "code",
   "execution_count": 3,
   "metadata": {},
   "outputs": [],
   "source": [
    "# Run this code\n",
    "\n",
    "cats = np.array(pd.read_csv(\"https://raw.githubusercontent.com/bioramble/pca/master/cat.csv\", header=None))\n",
    "dogs = np.array(pd.read_csv(\"https://raw.githubusercontent.com/bioramble/pca/master/dog.csv\", header=None))"
   ]
  },
  {
   "cell_type": "markdown",
   "metadata": {},
   "source": [
    "Next, we'll examine the shape of both the cats and the dogs arrays. Print out both shapes below."
   ]
  },
  {
   "cell_type": "code",
   "execution_count": 4,
   "metadata": {},
   "outputs": [
    {
     "data": {
      "text/plain": [
       "4096"
      ]
     },
     "metadata": {},
     "output_type": "display_data"
    },
    {
     "data": {
      "text/plain": [
       "4096"
      ]
     },
     "metadata": {},
     "output_type": "display_data"
    }
   ],
   "source": [
    "# Your code here:\n",
    "display(cats.shape[0])\n",
    "display(dogs.shape[0])"
   ]
  },
  {
   "cell_type": "markdown",
   "metadata": {},
   "source": [
    "What this means is that both arrays contain 80 images each (the number of columns). Each image is comprised of 64x64 pixels (so a total of 4096 pixels per image). The images have been flattened such that all 4096 are in a single row.\n",
    "\n",
    "Print out column 0 of the cats array to see what the pixels values look like."
   ]
  },
  {
   "cell_type": "code",
   "execution_count": 5,
   "metadata": {},
   "outputs": [
    {
     "data": {
      "text/plain": [
       "array([ 64,  23, 250, 137,  55, 173,  18, 134,  19,  47, 109, 164,  41,\n",
       "        78, 108, 108, 247, 105, 158,  54, 103,   4,  23, 102, 239,  72,\n",
       "        42,  21, 168, 109, 112, 177,  22, 233,  15, 236, 250, 137,  32,\n",
       "         5, 178, 109,  24, 107,  53, 241, 226, 143,   5, 136,  98, 100,\n",
       "        89,  66, 228,  92, 255,  88, 230,  56, 160,  69,   6,  24, 195,\n",
       "       183, 239,  35, 154, 154, 122,  18,  87, 106, 174,  69,  28,  60,\n",
       "       223, 101], dtype=int64)"
      ]
     },
     "execution_count": 5,
     "metadata": {},
     "output_type": "execute_result"
    }
   ],
   "source": [
    "# Your code here:\n",
    "\n",
    "cats[0]"
   ]
  },
  {
   "cell_type": "markdown",
   "metadata": {},
   "source": [
    "Using `matplotlib` we can plot a single cat or a single dog. We do this by reshaping the vector back to a 64x64 image and then using the `imshow` function.\n",
    "\n",
    "Run the code below to look at the first dog and the first cat."
   ]
  },
  {
   "cell_type": "code",
   "execution_count": 6,
   "metadata": {},
   "outputs": [
    {
     "data": {
      "text/plain": [
       "<matplotlib.image.AxesImage at 0x1e3adfe9ef0>"
      ]
     },
     "execution_count": 6,
     "metadata": {},
     "output_type": "execute_result"
    },
    {
     "data": {
      "image/png": "[encoded data removed]",
      "text/plain": [
       "<Figure size 432x288 with 1 Axes>"
      ]
     },
     "metadata": {
      "needs_background": "light"
     },
     "output_type": "display_data"
    }
   ],
   "source": [
    "# Run this code:\n",
    "\n",
    "fig, ax = plt.subplots()\n",
    "ax.imshow(cats[:,0].reshape(64, 64).T, cmap=plt.cm.bone, interpolation='nearest') "
   ]
  },
  {
   "cell_type": "code",
   "execution_count": 7,
   "metadata": {},
   "outputs": [
    {
     "data": {
      "text/plain": [
       "<matplotlib.image.AxesImage at 0x1e3ae360a58>"
      ]
     },
     "execution_count": 7,
     "metadata": {},
     "output_type": "execute_result"
    },
    {
     "data": {
      "image/png": "[encoded data removed]",
      "text/plain": [
       "<Figure size 432x288 with 1 Axes>"
      ]
     },
     "metadata": {
      "needs_background": "light"
     },
     "output_type": "display_data"
    }
   ],
   "source": [
    "# Run this code:\n",
    "\n",
    "fig, ax = plt.subplots()\n",
    "ax.imshow(dogs[:,0].reshape(64, 64).T, cmap=plt.cm.bone, interpolation='nearest') "
   ]
  },
  {
   "cell_type": "markdown",
   "metadata": {},
   "source": [
    "Next, we would like to create a standardization function. This function will find the mean and standard deviation of each image. We subtract the mean from each pixel and divide each pixel by the standard deviation. Write the function below.\n",
    "\n",
    "Hint: To find the mean and standard deviation of each image, use `numpy`'s version of mean and stadnard deviation and use `axis=0`."
   ]
  },
  {
   "cell_type": "code",
   "execution_count": 11,
   "metadata": {},
   "outputs": [],
   "source": [
    "def standardize(x):\n",
    "    #This function takes as input a numpy array and returns a stadardized numpy array of the same dimensions.\n",
    "    #Sample input: np.array([[1,2,3],[4,5,6]])\n",
    "    #Sample output: np.array([[-1,-1,-1],[1,1,1]])\n",
    "    \n",
    "    # Your code here:\n",
    "       return (x - np.mean(x, axis=0))/np.std(x, axis=0)\n",
    "\n"
   ]
  },
  {
   "cell_type": "markdown",
   "metadata": {},
   "source": [
    "Now, use the `np.concatenate` function to combine the cats and dogs arrays. Use `axis=1` to combine the two correctly. Make sure to put dogs first."
   ]
  },
  {
   "cell_type": "code",
   "execution_count": 9,
   "metadata": {},
   "outputs": [],
   "source": [
    "# Your code here:\n",
    "concatenate = np.concatenate([dogs,cats], axis=0)"
   ]
  },
  {
   "cell_type": "markdown",
   "metadata": {},
   "source": [
    "Standardize the concatenated array below."
   ]
  },
  {
   "cell_type": "code",
   "execution_count": 12,
   "metadata": {},
   "outputs": [],
   "source": [
    "# Your code here:\n",
    "a = np.apply_along_axis(standardize, 0, concatenate)\n"
   ]
  },
  {
   "cell_type": "markdown",
   "metadata": {},
   "source": [
    "# Challenge 2 - Using PCA\n",
    "\n",
    "Now that we have created a standardized matrix of cats and dogs, we'll find the two most important components in the data.\n",
    "\n",
    "Load the `PCA` function from `statsmodels` (read about this function [here](https://www.statsmodels.org/dev/generated/statsmodels.multivariate.pca.PCA.html)) and apply the function to our standarized data. Create a PCA model with two components."
   ]
  },
  {
   "cell_type": "code",
   "execution_count": 13,
   "metadata": {},
   "outputs": [],
   "source": [
    "# Your code here:\n",
    "from statsmodels.multivariate import pca"
   ]
  },
  {
   "cell_type": "markdown",
   "metadata": {},
   "source": [
    "Use `numpy` to find to transpose the standardized pet array. This will help us compute the projection."
   ]
  },
  {
   "cell_type": "code",
   "execution_count": 14,
   "metadata": {},
   "outputs": [],
   "source": [
    "# Your code here:\n",
    "\n",
    "cd_pca = pca.PCA(a,2)"
   ]
  },
  {
   "cell_type": "markdown",
   "metadata": {},
   "source": [
    "Find the dot product of the transposed standardized pet matrix and the `factors` of the `PCA` model found above. This will be the projection onto 2 dimensions. This means that each cat and dog image will now only have two columns instead of 4096."
   ]
  },
  {
   "cell_type": "code",
   "execution_count": 20,
   "metadata": {
    "scrolled": true
   },
   "outputs": [
    {
     "data": {
      "text/plain": [
       "array([[-2.23981529e+01,  1.39114117e+01],\n",
       "       [-5.09117506e+01,  2.79872611e+01],\n",
       "       [ 4.31275242e+01,  3.04215618e+01],\n",
       "       [ 1.37225388e+01,  6.61375845e+01],\n",
       "       [-3.44418160e+01,  2.52483356e+01],\n",
       "       [-4.31005913e+01,  1.45349094e+01],\n",
       "       [-4.13881455e+01,  3.52818442e+01],\n",
       "       [-3.11615651e+01,  4.53675623e+01],\n",
       "       [-5.97306636e+01, -1.23564313e+01],\n",
       "       [-2.83532949e+01, -1.60877823e+01],\n",
       "       [-1.67180116e+01,  1.16259572e+00],\n",
       "       [-7.70585521e+00, -4.55814861e+01],\n",
       "       [-6.42049039e+01,  1.92023730e+00],\n",
       "       [-4.40590893e+01, -9.25345706e+00],\n",
       "       [-2.91624595e+00,  2.61589148e+01],\n",
       "       [-5.46428273e+01,  2.42425914e+00],\n",
       "       [ 1.80402481e+01,  2.93760208e+00],\n",
       "       [-4.62592418e+01,  3.36293832e+01],\n",
       "       [ 2.07326601e+01,  3.72588348e+01],\n",
       "       [-5.70032426e+01, -3.02228648e+01],\n",
       "       [-1.42953051e+01,  4.68629517e+01],\n",
       "       [-5.01601422e+01,  4.98058976e+00],\n",
       "       [-3.38578546e+01, -4.80127946e+01],\n",
       "       [-4.99591843e+01,  4.14158630e+00],\n",
       "       [ 1.93438922e+01,  6.90613173e+01],\n",
       "       [-2.88192491e+01,  3.45061706e+01],\n",
       "       [-4.71210353e+01,  3.05317623e-02],\n",
       "       [-3.79140559e+01, -4.38292312e+01],\n",
       "       [-1.93077748e+01,  1.92281370e+01],\n",
       "       [-3.50867161e+01,  3.66922393e+01],\n",
       "       [-2.19318389e+01,  4.78404699e+01],\n",
       "       [-8.09722756e+00,  6.03699774e+01],\n",
       "       [-3.91431121e+01,  3.51943912e+01],\n",
       "       [ 2.70860765e+01,  7.33865562e+01],\n",
       "       [-4.64675721e+01,  1.97742470e+01],\n",
       "       [-1.99869810e+01, -1.79196944e+01],\n",
       "       [ 3.71000920e+01,  2.70551988e+01],\n",
       "       [-5.18430363e+01,  1.68858505e+01],\n",
       "       [-3.55099818e+01,  2.80287105e+01],\n",
       "       [-2.02452312e+01,  6.06422240e+01],\n",
       "       [-3.16588693e+01,  2.25398003e+01],\n",
       "       [-3.35555916e+01,  1.30569728e+01],\n",
       "       [-5.64573083e+01,  1.51098587e+01],\n",
       "       [-4.04105979e+01, -8.61245349e+00],\n",
       "       [-5.03079881e+01, -3.49654635e+01],\n",
       "       [ 2.46232485e+01, -3.40433257e+01],\n",
       "       [ 5.70310910e+00, -2.07821451e+01],\n",
       "       [ 2.27467155e+01,  1.68673159e+01],\n",
       "       [-3.89881680e+01, -2.33488455e+01],\n",
       "       [-1.36420987e+01,  5.18338353e+01],\n",
       "       [-2.29955880e+01,  2.04691247e+01],\n",
       "       [-7.70112809e+00, -4.25280136e+01],\n",
       "       [-4.25552761e+01, -5.26296187e+01],\n",
       "       [-4.88779954e+01, -1.83038123e+01],\n",
       "       [ 8.56759744e+00, -1.03848686e+01],\n",
       "       [-3.06304624e+01, -1.08602602e+01],\n",
       "       [-4.64531413e+01, -2.19311483e+00],\n",
       "       [-1.69301417e+01, -1.24775893e+01],\n",
       "       [ 8.71257663e+00,  1.85485020e+01],\n",
       "       [-3.05183005e+01, -3.59788421e+01],\n",
       "       [-2.63124894e+01,  1.54687425e+01],\n",
       "       [-1.44022453e+01,  1.54551576e+01],\n",
       "       [-3.55727111e+01,  2.76035894e+01],\n",
       "       [-3.14181876e+01, -5.46842569e+01],\n",
       "       [ 1.64298074e+01,  3.70585833e+01],\n",
       "       [-1.05208808e+01,  1.93469054e+01],\n",
       "       [ 5.16720998e+01, -3.86216016e+00],\n",
       "       [-6.93705864e-01,  1.63165331e+01],\n",
       "       [ 7.46423503e+00,  1.40293073e+01],\n",
       "       [ 7.96181819e+00, -3.66393414e+00],\n",
       "       [ 6.43959542e+00,  3.08736185e+01],\n",
       "       [-3.98412725e+01,  1.83167517e+01],\n",
       "       [-2.84910488e+01,  2.63968783e+01],\n",
       "       [-4.28637983e+00,  4.38408639e+01],\n",
       "       [ 1.61264784e+01, -7.07046738e+00],\n",
       "       [-2.68087055e+01,  3.63437093e+00],\n",
       "       [-3.35363950e+01, -2.22892236e+01],\n",
       "       [-4.01588358e+01, -1.26739814e-01],\n",
       "       [-3.07562405e-01,  2.25852253e+01],\n",
       "       [-1.47618405e+01, -3.66978112e+00]])"
      ]
     },
     "execution_count": 20,
     "metadata": {},
     "output_type": "execute_result"
    }
   ],
   "source": [
    "# Your code here:\n",
    "\n",
    "dot = np.dot(a.T,cd_pca.factors)\n",
    "dot"
   ]
  },
  {
   "cell_type": "markdown",
   "metadata": {},
   "source": [
    "# Challenge 3 - Plotting the Data\n",
    "\n",
    "Now that we have reduced our cats and dogs arrays, we can easily plot the data in a way that the human eye can understand. We can look at this plot to see whether there are differences between the cat and dog images. \n",
    "\n",
    "In the cell below, turn the two dimensional projection into a pandas dataframe and name the columns `pc1`, and `pc2` respectively."
   ]
  },
  {
   "cell_type": "code",
   "execution_count": 21,
   "metadata": {
    "scrolled": true
   },
   "outputs": [
    {
     "data": {
      "text/html": [
       "<div>\n",
       "<style scoped>\n",
       "    .dataframe tbody tr th:only-of-type {\n",
       "        vertical-align: middle;\n",
       "    }\n",
       "\n",
       "    .dataframe tbody tr th {\n",
       "        vertical-align: top;\n",
       "    }\n",
       "\n",
       "    .dataframe thead th {\n",
       "        text-align: right;\n",
       "    }\n",
       "</style>\n",
       "<table border=\"1\" class=\"dataframe\">\n",
       "  <thead>\n",
       "    <tr style=\"text-align: right;\">\n",
       "      <th></th>\n",
       "      <th>pc1</th>\n",
       "      <th>pc2</th>\n",
       "    </tr>\n",
       "  </thead>\n",
       "  <tbody>\n",
       "    <tr>\n",
       "      <th>0</th>\n",
       "      <td>-22.398153</td>\n",
       "      <td>13.911412</td>\n",
       "    </tr>\n",
       "    <tr>\n",
       "      <th>1</th>\n",
       "      <td>-50.911751</td>\n",
       "      <td>27.987261</td>\n",
       "    </tr>\n",
       "    <tr>\n",
       "      <th>2</th>\n",
       "      <td>43.127524</td>\n",
       "      <td>30.421562</td>\n",
       "    </tr>\n",
       "    <tr>\n",
       "      <th>3</th>\n",
       "      <td>13.722539</td>\n",
       "      <td>66.137585</td>\n",
       "    </tr>\n",
       "    <tr>\n",
       "      <th>4</th>\n",
       "      <td>-34.441816</td>\n",
       "      <td>25.248336</td>\n",
       "    </tr>\n",
       "    <tr>\n",
       "      <th>5</th>\n",
       "      <td>-43.100591</td>\n",
       "      <td>14.534909</td>\n",
       "    </tr>\n",
       "    <tr>\n",
       "      <th>6</th>\n",
       "      <td>-41.388145</td>\n",
       "      <td>35.281844</td>\n",
       "    </tr>\n",
       "    <tr>\n",
       "      <th>7</th>\n",
       "      <td>-31.161565</td>\n",
       "      <td>45.367562</td>\n",
       "    </tr>\n",
       "    <tr>\n",
       "      <th>8</th>\n",
       "      <td>-59.730664</td>\n",
       "      <td>-12.356431</td>\n",
       "    </tr>\n",
       "    <tr>\n",
       "      <th>9</th>\n",
       "      <td>-28.353295</td>\n",
       "      <td>-16.087782</td>\n",
       "    </tr>\n",
       "    <tr>\n",
       "      <th>10</th>\n",
       "      <td>-16.718012</td>\n",
       "      <td>1.162596</td>\n",
       "    </tr>\n",
       "    <tr>\n",
       "      <th>11</th>\n",
       "      <td>-7.705855</td>\n",
       "      <td>-45.581486</td>\n",
       "    </tr>\n",
       "    <tr>\n",
       "      <th>12</th>\n",
       "      <td>-64.204904</td>\n",
       "      <td>1.920237</td>\n",
       "    </tr>\n",
       "    <tr>\n",
       "      <th>13</th>\n",
       "      <td>-44.059089</td>\n",
       "      <td>-9.253457</td>\n",
       "    </tr>\n",
       "    <tr>\n",
       "      <th>14</th>\n",
       "      <td>-2.916246</td>\n",
       "      <td>26.158915</td>\n",
       "    </tr>\n",
       "    <tr>\n",
       "      <th>15</th>\n",
       "      <td>-54.642827</td>\n",
       "      <td>2.424259</td>\n",
       "    </tr>\n",
       "    <tr>\n",
       "      <th>16</th>\n",
       "      <td>18.040248</td>\n",
       "      <td>2.937602</td>\n",
       "    </tr>\n",
       "    <tr>\n",
       "      <th>17</th>\n",
       "      <td>-46.259242</td>\n",
       "      <td>33.629383</td>\n",
       "    </tr>\n",
       "    <tr>\n",
       "      <th>18</th>\n",
       "      <td>20.732660</td>\n",
       "      <td>37.258835</td>\n",
       "    </tr>\n",
       "    <tr>\n",
       "      <th>19</th>\n",
       "      <td>-57.003243</td>\n",
       "      <td>-30.222865</td>\n",
       "    </tr>\n",
       "    <tr>\n",
       "      <th>20</th>\n",
       "      <td>-14.295305</td>\n",
       "      <td>46.862952</td>\n",
       "    </tr>\n",
       "    <tr>\n",
       "      <th>21</th>\n",
       "      <td>-50.160142</td>\n",
       "      <td>4.980590</td>\n",
       "    </tr>\n",
       "    <tr>\n",
       "      <th>22</th>\n",
       "      <td>-33.857855</td>\n",
       "      <td>-48.012795</td>\n",
       "    </tr>\n",
       "    <tr>\n",
       "      <th>23</th>\n",
       "      <td>-49.959184</td>\n",
       "      <td>4.141586</td>\n",
       "    </tr>\n",
       "    <tr>\n",
       "      <th>24</th>\n",
       "      <td>19.343892</td>\n",
       "      <td>69.061317</td>\n",
       "    </tr>\n",
       "    <tr>\n",
       "      <th>25</th>\n",
       "      <td>-28.819249</td>\n",
       "      <td>34.506171</td>\n",
       "    </tr>\n",
       "    <tr>\n",
       "      <th>26</th>\n",
       "      <td>-47.121035</td>\n",
       "      <td>0.030532</td>\n",
       "    </tr>\n",
       "    <tr>\n",
       "      <th>27</th>\n",
       "      <td>-37.914056</td>\n",
       "      <td>-43.829231</td>\n",
       "    </tr>\n",
       "    <tr>\n",
       "      <th>28</th>\n",
       "      <td>-19.307775</td>\n",
       "      <td>19.228137</td>\n",
       "    </tr>\n",
       "    <tr>\n",
       "      <th>29</th>\n",
       "      <td>-35.086716</td>\n",
       "      <td>36.692239</td>\n",
       "    </tr>\n",
       "    <tr>\n",
       "      <th>...</th>\n",
       "      <td>...</td>\n",
       "      <td>...</td>\n",
       "    </tr>\n",
       "    <tr>\n",
       "      <th>50</th>\n",
       "      <td>-22.995588</td>\n",
       "      <td>20.469125</td>\n",
       "    </tr>\n",
       "    <tr>\n",
       "      <th>51</th>\n",
       "      <td>-7.701128</td>\n",
       "      <td>-42.528014</td>\n",
       "    </tr>\n",
       "    <tr>\n",
       "      <th>52</th>\n",
       "      <td>-42.555276</td>\n",
       "      <td>-52.629619</td>\n",
       "    </tr>\n",
       "    <tr>\n",
       "      <th>53</th>\n",
       "      <td>-48.877995</td>\n",
       "      <td>-18.303812</td>\n",
       "    </tr>\n",
       "    <tr>\n",
       "      <th>54</th>\n",
       "      <td>8.567597</td>\n",
       "      <td>-10.384869</td>\n",
       "    </tr>\n",
       "    <tr>\n",
       "      <th>55</th>\n",
       "      <td>-30.630462</td>\n",
       "      <td>-10.860260</td>\n",
       "    </tr>\n",
       "    <tr>\n",
       "      <th>56</th>\n",
       "      <td>-46.453141</td>\n",
       "      <td>-2.193115</td>\n",
       "    </tr>\n",
       "    <tr>\n",
       "      <th>57</th>\n",
       "      <td>-16.930142</td>\n",
       "      <td>-12.477589</td>\n",
       "    </tr>\n",
       "    <tr>\n",
       "      <th>58</th>\n",
       "      <td>8.712577</td>\n",
       "      <td>18.548502</td>\n",
       "    </tr>\n",
       "    <tr>\n",
       "      <th>59</th>\n",
       "      <td>-30.518300</td>\n",
       "      <td>-35.978842</td>\n",
       "    </tr>\n",
       "    <tr>\n",
       "      <th>60</th>\n",
       "      <td>-26.312489</td>\n",
       "      <td>15.468742</td>\n",
       "    </tr>\n",
       "    <tr>\n",
       "      <th>61</th>\n",
       "      <td>-14.402245</td>\n",
       "      <td>15.455158</td>\n",
       "    </tr>\n",
       "    <tr>\n",
       "      <th>62</th>\n",
       "      <td>-35.572711</td>\n",
       "      <td>27.603589</td>\n",
       "    </tr>\n",
       "    <tr>\n",
       "      <th>63</th>\n",
       "      <td>-31.418188</td>\n",
       "      <td>-54.684257</td>\n",
       "    </tr>\n",
       "    <tr>\n",
       "      <th>64</th>\n",
       "      <td>16.429807</td>\n",
       "      <td>37.058583</td>\n",
       "    </tr>\n",
       "    <tr>\n",
       "      <th>65</th>\n",
       "      <td>-10.520881</td>\n",
       "      <td>19.346905</td>\n",
       "    </tr>\n",
       "    <tr>\n",
       "      <th>66</th>\n",
       "      <td>51.672100</td>\n",
       "      <td>-3.862160</td>\n",
       "    </tr>\n",
       "    <tr>\n",
       "      <th>67</th>\n",
       "      <td>-0.693706</td>\n",
       "      <td>16.316533</td>\n",
       "    </tr>\n",
       "    <tr>\n",
       "      <th>68</th>\n",
       "      <td>7.464235</td>\n",
       "      <td>14.029307</td>\n",
       "    </tr>\n",
       "    <tr>\n",
       "      <th>69</th>\n",
       "      <td>7.961818</td>\n",
       "      <td>-3.663934</td>\n",
       "    </tr>\n",
       "    <tr>\n",
       "      <th>70</th>\n",
       "      <td>6.439595</td>\n",
       "      <td>30.873618</td>\n",
       "    </tr>\n",
       "    <tr>\n",
       "      <th>71</th>\n",
       "      <td>-39.841273</td>\n",
       "      <td>18.316752</td>\n",
       "    </tr>\n",
       "    <tr>\n",
       "      <th>72</th>\n",
       "      <td>-28.491049</td>\n",
       "      <td>26.396878</td>\n",
       "    </tr>\n",
       "    <tr>\n",
       "      <th>73</th>\n",
       "      <td>-4.286380</td>\n",
       "      <td>43.840864</td>\n",
       "    </tr>\n",
       "    <tr>\n",
       "      <th>74</th>\n",
       "      <td>16.126478</td>\n",
       "      <td>-7.070467</td>\n",
       "    </tr>\n",
       "    <tr>\n",
       "      <th>75</th>\n",
       "      <td>-26.808705</td>\n",
       "      <td>3.634371</td>\n",
       "    </tr>\n",
       "    <tr>\n",
       "      <th>76</th>\n",
       "      <td>-33.536395</td>\n",
       "      <td>-22.289224</td>\n",
       "    </tr>\n",
       "    <tr>\n",
       "      <th>77</th>\n",
       "      <td>-40.158836</td>\n",
       "      <td>-0.126740</td>\n",
       "    </tr>\n",
       "    <tr>\n",
       "      <th>78</th>\n",
       "      <td>-0.307562</td>\n",
       "      <td>22.585225</td>\n",
       "    </tr>\n",
       "    <tr>\n",
       "      <th>79</th>\n",
       "      <td>-14.761840</td>\n",
       "      <td>-3.669781</td>\n",
       "    </tr>\n",
       "  </tbody>\n",
       "</table>\n",
       "<p>80 rows × 2 columns</p>\n",
       "</div>"
      ],
      "text/plain": [
       "          pc1        pc2\n",
       "0  -22.398153  13.911412\n",
       "1  -50.911751  27.987261\n",
       "2   43.127524  30.421562\n",
       "3   13.722539  66.137585\n",
       "4  -34.441816  25.248336\n",
       "5  -43.100591  14.534909\n",
       "6  -41.388145  35.281844\n",
       "7  -31.161565  45.367562\n",
       "8  -59.730664 -12.356431\n",
       "9  -28.353295 -16.087782\n",
       "10 -16.718012   1.162596\n",
       "11  -7.705855 -45.581486\n",
       "12 -64.204904   1.920237\n",
       "13 -44.059089  -9.253457\n",
       "14  -2.916246  26.158915\n",
       "15 -54.642827   2.424259\n",
       "16  18.040248   2.937602\n",
       "17 -46.259242  33.629383\n",
       "18  20.732660  37.258835\n",
       "19 -57.003243 -30.222865\n",
       "20 -14.295305  46.862952\n",
       "21 -50.160142   4.980590\n",
       "22 -33.857855 -48.012795\n",
       "23 -49.959184   4.141586\n",
       "24  19.343892  69.061317\n",
       "25 -28.819249  34.506171\n",
       "26 -47.121035   0.030532\n",
       "27 -37.914056 -43.829231\n",
       "28 -19.307775  19.228137\n",
       "29 -35.086716  36.692239\n",
       "..        ...        ...\n",
       "50 -22.995588  20.469125\n",
       "51  -7.701128 -42.528014\n",
       "52 -42.555276 -52.629619\n",
       "53 -48.877995 -18.303812\n",
       "54   8.567597 -10.384869\n",
       "55 -30.630462 -10.860260\n",
       "56 -46.453141  -2.193115\n",
       "57 -16.930142 -12.477589\n",
       "58   8.712577  18.548502\n",
       "59 -30.518300 -35.978842\n",
       "60 -26.312489  15.468742\n",
       "61 -14.402245  15.455158\n",
       "62 -35.572711  27.603589\n",
       "63 -31.418188 -54.684257\n",
       "64  16.429807  37.058583\n",
       "65 -10.520881  19.346905\n",
       "66  51.672100  -3.862160\n",
       "67  -0.693706  16.316533\n",
       "68   7.464235  14.029307\n",
       "69   7.961818  -3.663934\n",
       "70   6.439595  30.873618\n",
       "71 -39.841273  18.316752\n",
       "72 -28.491049  26.396878\n",
       "73  -4.286380  43.840864\n",
       "74  16.126478  -7.070467\n",
       "75 -26.808705   3.634371\n",
       "76 -33.536395 -22.289224\n",
       "77 -40.158836  -0.126740\n",
       "78  -0.307562  22.585225\n",
       "79 -14.761840  -3.669781\n",
       "\n",
       "[80 rows x 2 columns]"
      ]
     },
     "execution_count": 21,
     "metadata": {},
     "output_type": "execute_result"
    }
   ],
   "source": [
    "# Your code here:\n",
    "\n",
    "proyeccion = pd.DataFrame(dot, columns=['pc1', 'pc2'])\n",
    "proyeccion"
   ]
  },
  {
   "cell_type": "markdown",
   "metadata": {},
   "source": [
    "Create a labels list. This list will be of size 160. The first 80 elements in the list will be the word `blue`, and the last 80 elements will be `red`. This will ensure that all dog observations will be colored in blue and all cats will be colored in red. Name this list `colors`."
   ]
  },
  {
   "cell_type": "code",
   "execution_count": null,
   "metadata": {},
   "outputs": [],
   "source": [
    "# Your code here:\n",
    "colors\n"
   ]
  },
  {
   "cell_type": "markdown",
   "metadata": {},
   "source": [
    "Create a scatter plot of `pc1` and `pc2` below. Use the `colors` list above to color the observations by setting `c=colors`."
   ]
  },
  {
   "cell_type": "code",
   "execution_count": null,
   "metadata": {},
   "outputs": [],
   "source": [
    "# Your code here:\n",
    "\n"
   ]
  },
  {
   "cell_type": "markdown",
   "metadata": {},
   "source": [
    "Do you see a clear separation between cats and dogs? Write your answer below."
   ]
  },
  {
   "cell_type": "code",
   "execution_count": null,
   "metadata": {},
   "outputs": [],
   "source": [
    "# Your conclusions here:\n",
    "\n"
   ]
  },
  {
   "cell_type": "code",
   "execution_count": null,
   "metadata": {},
   "outputs": [],
   "source": []
  }
 ],
 "metadata": {
  "kernelspec": {
   "display_name": "Python 3",
   "language": "python",
   "name": "python3"
  },
  "language_info": {
   "codemirror_mode": {
    "name": "ipython",
    "version": 3
   },
   "file_extension": ".py",
   "mimetype": "text/x-python",
   "name": "python",
   "nbconvert_exporter": "python",
   "pygments_lexer": "ipython3",
   "version": "3.7.3"
  }
 },
 "nbformat": 4,
 "nbformat_minor": 4
}
